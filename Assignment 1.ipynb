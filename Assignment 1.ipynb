{
 "cells": [
  {
   "cell_type": "code",
   "execution_count": null,
   "id": "844ad550-82fc-44ec-b936-75bc907d2b32",
   "metadata": {},
   "outputs": [],
   "source": [
    "1. Write a Python program to reverse a string without using any built-in string reversal functions."
   ]
  },
  {
   "cell_type": "code",
   "execution_count": 4,
   "id": "57c890cb-4e6d-40fd-9752-f74c4d8d73cd",
   "metadata": {},
   "outputs": [
    {
     "name": "stdout",
     "output_type": "stream",
     "text": [
      "!dlrow olleH\n"
     ]
    }
   ],
   "source": [
    "def reverse_string(s):\n",
    "  # initialize an empty string\n",
    "  reversed_s = \"\"\n",
    "  # loop through the original string from the end to the beginning\n",
    "  for i in range(len(s)-1, -1, -1):\n",
    "    # append each character to the reversed string\n",
    "    reversed_s += s[i]\n",
    "  # return the reversed string\n",
    "  return reversed_s\n",
    "\n",
    "# test the function\n",
    "s = \"Hello world!\"\n",
    "print(reverse_string(s)) # prints \"!dlrow olleH\""
   ]
  },
  {
   "cell_type": "code",
   "execution_count": null,
   "id": "52fc641d-693f-45e2-9ab9-94523d0d2115",
   "metadata": {},
   "outputs": [],
   "source": []
  },
  {
   "cell_type": "code",
   "execution_count": null,
   "id": "55908e16-af62-4946-92cb-5297e1034768",
   "metadata": {},
   "outputs": [],
   "source": [
    "2. Implement a function to check if a given string is a palindrome."
   ]
  },
  {
   "cell_type": "code",
   "execution_count": 5,
   "id": "041817a9-6b1e-4b88-9642-c76e7cc6c094",
   "metadata": {},
   "outputs": [
    {
     "name": "stdout",
     "output_type": "stream",
     "text": [
      "True\n"
     ]
    }
   ],
   "source": [
    "def is_palindrome(s):\n",
    "  # initialize two pointers at the start and end of the string\n",
    "  left = 0\n",
    "  right = len(s) - 1\n",
    "  # loop until the pointers meet or cross\n",
    "  while left < right:\n",
    "    # if the characters at the pointers are not equal, return False\n",
    "    if s[left] != s[right]:\n",
    "      return False\n",
    "    # otherwise, move the pointers towards the center\n",
    "    left += 1\n",
    "    right -= 1\n",
    "  # if the loop ends, return True\n",
    "  return True\n",
    "\n",
    "# test the function\n",
    "s = \"racecar\"\n",
    "print(is_palindrome(s)) # prints True"
   ]
  },
  {
   "cell_type": "code",
   "execution_count": null,
   "id": "bba53c62-913b-41f0-b7ea-505754e8c709",
   "metadata": {},
   "outputs": [],
   "source": []
  },
  {
   "cell_type": "code",
   "execution_count": null,
   "id": "074b6f62-1d4c-4d97-8abd-1d623e6ce94c",
   "metadata": {},
   "outputs": [],
   "source": [
    "3. Write a program to find the largest element in a given list."
   ]
  },
  {
   "cell_type": "code",
   "execution_count": 6,
   "id": "2ac1fdd0-6f54-46dc-aa17-607f446f911f",
   "metadata": {},
   "outputs": [
    {
     "name": "stdout",
     "output_type": "stream",
     "text": [
      "9\n"
     ]
    }
   ],
   "source": [
    "def find_max(lst):\n",
    "  # initialize the maximum element as the first element of the list\n",
    "  max_element = lst[0]\n",
    "  # loop through the rest of the list\n",
    "  for i in range(1, len(lst)):\n",
    "    # if the current element is greater than the maximum element, update the maximum element\n",
    "    if lst[i] > max_element:\n",
    "      max_element = lst[i]\n",
    "  # return the maximum element\n",
    "  return max_element\n",
    "\n",
    "# test the function\n",
    "lst = [3, 5, 7, 9, 2, 4, 6, 8]\n",
    "print(find_max(lst)) # prints 9"
   ]
  },
  {
   "cell_type": "code",
   "execution_count": null,
   "id": "02f2199b-d8e4-4b34-a2c4-e3d4f98aff48",
   "metadata": {},
   "outputs": [],
   "source": []
  },
  {
   "cell_type": "code",
   "execution_count": null,
   "id": "10981fc9-eda4-4198-ad14-1c25df3250e0",
   "metadata": {},
   "outputs": [],
   "source": [
    "4. Implement a function to count the occurrence of each element in a list."
   ]
  },
  {
   "cell_type": "code",
   "execution_count": 7,
   "id": "48ac4bb0-8e6d-4c34-b58e-f905ed728fa9",
   "metadata": {},
   "outputs": [
    {
     "name": "stdout",
     "output_type": "stream",
     "text": [
      "{'a': 3, 'b': 2, 'c': 1}\n"
     ]
    }
   ],
   "source": [
    "def count_elements(lst):\n",
    "  # initialize an empty dictionary to store the element and its count\n",
    "  count_dict = {}\n",
    "  # loop through the list\n",
    "  for element in lst:\n",
    "    # if the element is already in the dictionary, increment its count by one\n",
    "    if element in count_dict:\n",
    "      count_dict[element] += 1\n",
    "    # otherwise, add the element to the dictionary with a count of one\n",
    "    else:\n",
    "      count_dict[element] = 1\n",
    "  # return the dictionary\n",
    "  return count_dict\n",
    "\n",
    "# test the function\n",
    "lst = [\"a\", \"b\", \"c\", \"a\", \"b\", \"a\"]\n",
    "print(count_elements(lst)) # prints {\"a\": 3, \"b\": 2, \"c\": 1}"
   ]
  },
  {
   "cell_type": "code",
   "execution_count": null,
   "id": "01dae4e3-cc49-4620-8511-ae1edad6ac75",
   "metadata": {},
   "outputs": [],
   "source": []
  },
  {
   "cell_type": "code",
   "execution_count": null,
   "id": "28d6bd46-fd55-4a6b-964a-2e90fe58dd03",
   "metadata": {},
   "outputs": [],
   "source": [
    "5. Write a Python program to find the second largest number in a list."
   ]
  },
  {
   "cell_type": "code",
   "execution_count": 8,
   "id": "bd3c9eb9-d6e5-4604-a748-604ec8380c51",
   "metadata": {},
   "outputs": [
    {
     "name": "stdout",
     "output_type": "stream",
     "text": [
      "8\n"
     ]
    }
   ],
   "source": [
    "def find_second_max(lst):\n",
    "  # initialize the first and second maximum elements as the first two elements of the list\n",
    "  first_max = max(lst[0], lst[1])\n",
    "  second_max = min(lst[0], lst[1])\n",
    "  # loop through the rest of the list\n",
    "  for i in range(2, len(lst)):\n",
    "    # if the current element is greater than the first maximum element, update both the first and second maximum elements\n",
    "    if lst[i] > first_max:\n",
    "      second_max = first_max\n",
    "      first_max = lst[i]\n",
    "    # otherwise, if the current element is greater than the second maximum element, update only the second maximum element\n",
    "    elif lst[i] > second_max:\n",
    "      second_max = lst[i]\n",
    "  # return the second maximum element\n",
    "  return second_max\n",
    "\n",
    "# test the function\n",
    "lst = [3, 5, 7, 9, 2, 4, 6, 8]\n",
    "print(find_second_max(lst)) "
   ]
  },
  {
   "cell_type": "code",
   "execution_count": null,
   "id": "14ff3b5b-8265-4d95-9120-358ba4920226",
   "metadata": {},
   "outputs": [],
   "source": []
  },
  {
   "cell_type": "code",
   "execution_count": null,
   "id": "c473bd5e-b8b8-41a9-82f8-e1b6140eefb7",
   "metadata": {},
   "outputs": [],
   "source": [
    "6. Implement a function to remove duplicate elements from a list."
   ]
  },
  {
   "cell_type": "code",
   "execution_count": 9,
   "id": "a73040e2-5112-466a-b8a9-710e7a33e7eb",
   "metadata": {},
   "outputs": [
    {
     "name": "stdout",
     "output_type": "stream",
     "text": [
      "['a', 'b', 'c']\n"
     ]
    }
   ],
   "source": [
    "def remove_duplicates(lst):\n",
    "  # initialize an empty list to store the unique elements\n",
    "  unique_lst = []\n",
    "  # loop through the original list\n",
    "  for element in lst:\n",
    "    # if the element is not in the unique list, append it to the unique list\n",
    "    if element not in unique_lst:\n",
    "      unique_lst.append(element)\n",
    "  # return the unique list\n",
    "  return unique_lst\n",
    "\n",
    "# test the function\n",
    "lst = [\"a\", \"b\", \"c\", \"a\", \"b\", \"a\"]\n",
    "print(remove_duplicates(lst)) "
   ]
  },
  {
   "cell_type": "code",
   "execution_count": null,
   "id": "5d4479e1-12df-42cf-af66-4f02875b414b",
   "metadata": {},
   "outputs": [],
   "source": []
  },
  {
   "cell_type": "code",
   "execution_count": null,
   "id": "5e43ff68-6780-4028-a94d-ae654e15d8be",
   "metadata": {},
   "outputs": [],
   "source": [
    "7. Write a program to calculate the factorial of a given number"
   ]
  },
  {
   "cell_type": "code",
   "execution_count": 10,
   "id": "1c4fce31-d784-4f6d-bc4d-18691d0fcd51",
   "metadata": {},
   "outputs": [
    {
     "name": "stdout",
     "output_type": "stream",
     "text": [
      "120\n"
     ]
    }
   ],
   "source": [
    "def factorial(n):\n",
    "  # base case: if n is zero or one, return one\n",
    "  if n == 0 or n == 1:\n",
    "    return 1\n",
    "  # recursive case: if n is greater than one, return n times the factorial of n-1\n",
    "  else:\n",
    "    return n * factorial(n-1)\n",
    "\n",
    "# test the function\n",
    "n = 5\n",
    "print(factorial(n)) "
   ]
  },
  {
   "cell_type": "code",
   "execution_count": null,
   "id": "d9b69e32-9b34-430d-a51a-ef6a98519edf",
   "metadata": {},
   "outputs": [],
   "source": []
  },
  {
   "cell_type": "code",
   "execution_count": null,
   "id": "1a60ca40-3bac-4064-a86b-2507a72f3ecc",
   "metadata": {},
   "outputs": [],
   "source": [
    "8. Implement a function to check if a given number is prime."
   ]
  },
  {
   "cell_type": "code",
   "execution_count": 11,
   "id": "626bf578-961f-414f-ae17-49483aaabb5e",
   "metadata": {},
   "outputs": [
    {
     "name": "stdout",
     "output_type": "stream",
     "text": [
      "True\n"
     ]
    }
   ],
   "source": [
    "def is_prime(n):\n",
    "  # if n is less than or equal to one, return False\n",
    "  if n <= 1:\n",
    "    return False\n",
    "  # loop from 2 to the square root of n\n",
    "  for i in range(2, int(n**0.5) + 1):\n",
    "    # if n is divisible by i, return False\n",
    "    if n % i == 0:\n",
    "      return False\n",
    "  # if the loop ends, return True\n",
    "  return True\n",
    "\n",
    "# test the function\n",
    "n = 17\n",
    "print(is_prime(n)) "
   ]
  },
  {
   "cell_type": "code",
   "execution_count": null,
   "id": "92321007-2a90-40f1-b239-1a4af9b605a0",
   "metadata": {},
   "outputs": [],
   "source": []
  },
  {
   "cell_type": "code",
   "execution_count": null,
   "id": "ab305459-fcaf-4faa-ad63-7ac54a7d9ebd",
   "metadata": {},
   "outputs": [],
   "source": [
    "9. Write a Python program to sort a list of integers in ascending order."
   ]
  },
  {
   "cell_type": "code",
   "execution_count": 12,
   "id": "669b7792-cc6b-47f6-8b43-53471a17ef2b",
   "metadata": {},
   "outputs": [
    {
     "name": "stdout",
     "output_type": "stream",
     "text": [
      "[2, 3, 4, 5, 6, 7, 8, 9]\n"
     ]
    }
   ],
   "source": [
    "def bubble_sort(lst):\n",
    "  # loop through the list n-1 times, where n is the length of the list\n",
    "  for i in range(len(lst) - 1):\n",
    "    # loop through the list from 0 to n-i-1\n",
    "    for j in range(len(lst) - i - 1):\n",
    "      # if the current element is greater than the next element, swap them\n",
    "      if lst[j] > lst[j+1]:\n",
    "        lst[j], lst[j+1] = lst[j+1], lst[j]\n",
    "  # return the sorted list\n",
    "  return lst\n",
    "\n",
    "# test the function\n",
    "lst = [3, 5, 7, 9, 2, 4, 6, 8]\n",
    "print(bubble_sort(lst)) "
   ]
  },
  {
   "cell_type": "code",
   "execution_count": null,
   "id": "191c874a-36e0-4b02-a5cc-592dac36c127",
   "metadata": {},
   "outputs": [],
   "source": []
  },
  {
   "cell_type": "code",
   "execution_count": null,
   "id": "05519c08-5430-4d67-815f-6b9677ee5849",
   "metadata": {},
   "outputs": [],
   "source": [
    "10. Implement a function to find the sum of all numbers in a list."
   ]
  },
  {
   "cell_type": "code",
   "execution_count": 13,
   "id": "6969b737-5701-4389-a2af-2a503254d98e",
   "metadata": {},
   "outputs": [
    {
     "name": "stdout",
     "output_type": "stream",
     "text": [
      "44\n"
     ]
    }
   ],
   "source": [
    "def sum_list(lst):\n",
    "  # initialize the sum as zero\n",
    "  total = 0\n",
    "  # loop through the list\n",
    "  for num in lst:\n",
    "    # add each number to the sum\n",
    "    total += num\n",
    "  # return the sum\n",
    "  return total\n",
    "\n",
    "# test the function\n",
    "lst = [3, 5, 7, 9, 2, 4, 6, 8]\n",
    "print(sum_list(lst))"
   ]
  },
  {
   "cell_type": "code",
   "execution_count": null,
   "id": "14600a87-c578-48ca-a555-048394571eb2",
   "metadata": {},
   "outputs": [],
   "source": []
  },
  {
   "cell_type": "code",
   "execution_count": null,
   "id": "3bd3756b-463f-4c4b-8a6b-b96ad24b9949",
   "metadata": {},
   "outputs": [],
   "source": [
    "11. Write a program to find the common elements between two lists."
   ]
  },
  {
   "cell_type": "code",
   "execution_count": 14,
   "id": "e5489f4d-1187-4dec-baae-222580b538b7",
   "metadata": {},
   "outputs": [
    {
     "name": "stdout",
     "output_type": "stream",
     "text": [
      "['c', 'd', 'e']\n"
     ]
    }
   ],
   "source": [
    "def find_common(lst1, lst2):\n",
    "  # initialize an empty list to store the common elements\n",
    "  common_lst = []\n",
    "  # loop through the first list\n",
    "  for element in lst1:\n",
    "    # if the element is in the second list and not in the common list, append it to the common list\n",
    "    if element in lst2 and element not in common_lst:\n",
    "      common_lst.append(element)\n",
    "  # return the common list\n",
    "  return common_lst\n",
    "\n",
    "# test the function\n",
    "lst1 = [\"a\", \"b\", \"c\", \"d\", \"e\"]\n",
    "lst2 = [\"c\", \"d\", \"e\", \"f\", \"g\"]\n",
    "print(find_common(lst1, lst2)) "
   ]
  },
  {
   "cell_type": "code",
   "execution_count": null,
   "id": "f46f833e-ce55-4a7d-87ba-1bc1084af458",
   "metadata": {},
   "outputs": [],
   "source": []
  },
  {
   "cell_type": "code",
   "execution_count": null,
   "id": "7cccdd15-8ad1-4b07-bbc3-d8249c97e037",
   "metadata": {},
   "outputs": [],
   "source": [
    "12. Implement a function to check if a given string is an anagram of another string."
   ]
  },
  {
   "cell_type": "code",
   "execution_count": 15,
   "id": "c8ba1984-c8c6-4001-8b7a-6f06de558156",
   "metadata": {},
   "outputs": [
    {
     "name": "stdout",
     "output_type": "stream",
     "text": [
      "True\n"
     ]
    }
   ],
   "source": [
    "def is_anagram(s1, s2):\n",
    "  # if the lengths of the strings are not equal, return False\n",
    "  if len(s1) != len(s2):\n",
    "    return False\n",
    "  # sort the strings and compare them\n",
    "  return sorted(s1) == sorted(s2)\n",
    "\n",
    "# test the function\n",
    "s1 = \"listen\"\n",
    "s2 = \"silent\"\n",
    "print(is_anagram(s1, s2)) "
   ]
  },
  {
   "cell_type": "code",
   "execution_count": null,
   "id": "128bc3d1-1223-45cd-b361-a06b01e2a4ff",
   "metadata": {},
   "outputs": [],
   "source": []
  },
  {
   "cell_type": "code",
   "execution_count": null,
   "id": "59e01f8f-972b-4de1-ad7a-81ce78da71bb",
   "metadata": {},
   "outputs": [],
   "source": [
    "13. Write a Python program to generate all permutations of a given string."
   ]
  },
  {
   "cell_type": "code",
   "execution_count": 16,
   "id": "6804ab71-d6dc-49dc-8fb4-15a5e281ea1d",
   "metadata": {},
   "outputs": [
    {
     "name": "stdout",
     "output_type": "stream",
     "text": [
      "['abc', 'acb', 'bac', 'bca', 'cab', 'cba']\n"
     ]
    }
   ],
   "source": [
    "def permute_string(s):\n",
    "  # base case: if the string is empty, return a list with an empty string\n",
    "  if s == \"\":\n",
    "    return [\"\"]\n",
    "  # recursive case: if the string is not empty, initialize an empty list to store the permutations\n",
    "  else:\n",
    "    permutations = []\n",
    "    # loop through each character in the string\n",
    "    for i in range(len(s)):\n",
    "      # remove the character from the string and store it as a prefix\n",
    "      prefix = s[i]\n",
    "      rest = s[:i] + s[i+1:]\n",
    "      # recursively permute the rest of the string and append the prefix to each permutation\n",
    "      for permutation in permute_string(rest):\n",
    "        permutations.append(prefix + permutation)\n",
    "    # return the list of permutations\n",
    "    return permutations\n",
    "\n",
    "# test the function\n",
    "s = \"abc\"\n",
    "print(permute_string(s)) "
   ]
  },
  {
   "cell_type": "code",
   "execution_count": null,
   "id": "ac27c435-51c1-4789-9b2e-571dbdc0dd99",
   "metadata": {},
   "outputs": [],
   "source": []
  },
  {
   "cell_type": "code",
   "execution_count": null,
   "id": "9f12dc5f-c6b5-46fb-9117-cfd4cebbc8df",
   "metadata": {},
   "outputs": [],
   "source": [
    "14. Implement a function to calculate the Fibonacci sequence up to a given number of terms.\n"
   ]
  },
  {
   "cell_type": "code",
   "execution_count": 17,
   "id": "332fbaa8-fe4a-406f-afea-96be94424af7",
   "metadata": {},
   "outputs": [
    {
     "name": "stdout",
     "output_type": "stream",
     "text": [
      "[0, 1, 1, 2, 3, 5, 8, 13, 21, 34]\n"
     ]
    }
   ],
   "source": [
    "def fibonacci(n):\n",
    "  # initialize the first and second terms as 0 and 1\n",
    "  a = 0\n",
    "  b = 1\n",
    "  # initialize an empty list to store the sequence\n",
    "  sequence = []\n",
    "  # loop n times\n",
    "  for i in range(n):\n",
    "    # append the first term to the sequence\n",
    "    sequence.append(a)\n",
    "    # calculate the next term as the sum of the first and second terms\n",
    "    c = a + b\n",
    "    # update the first and second terms as the second and next terms\n",
    "    a = b\n",
    "    b = c\n",
    "  # return the sequence\n",
    "  return sequence\n",
    "\n",
    "# test the function\n",
    "n = 10\n",
    "print(fibonacci(n))"
   ]
  },
  {
   "cell_type": "code",
   "execution_count": null,
   "id": "18ef505e-a455-42dc-9b38-e5ae551d760b",
   "metadata": {},
   "outputs": [],
   "source": []
  },
  {
   "cell_type": "code",
   "execution_count": null,
   "id": "60144a1f-b766-45f0-b9e1-796bf4c46c9e",
   "metadata": {},
   "outputs": [],
   "source": [
    "15. Write a program to find the median of a list of numbers."
   ]
  },
  {
   "cell_type": "code",
   "execution_count": 18,
   "id": "5111d479-03e4-406c-9bd9-04d59cb61de5",
   "metadata": {},
   "outputs": [
    {
     "name": "stdout",
     "output_type": "stream",
     "text": [
      "5.5\n"
     ]
    }
   ],
   "source": [
    "def find_median(lst):\n",
    "  # sort the list\n",
    "  lst.sort()\n",
    "  # find the middle index\n",
    "  mid = len(lst) // 2\n",
    "  # if the list has an odd length, return the middle element\n",
    "  if len(lst) % 2 == 1:\n",
    "    return lst[mid]\n",
    "  # otherwise, return the average of the middle two elements\n",
    "  else:\n",
    "    return (lst[mid-1] + lst[mid]) / 2\n",
    "\n",
    "# test the function\n",
    "lst = [3, 5, 7, 9, 2, 4, 6, 8]\n",
    "print(find_median(lst)) "
   ]
  },
  {
   "cell_type": "code",
   "execution_count": null,
   "id": "8b9ee313-b224-4fd9-a5fe-16efc05b43f1",
   "metadata": {},
   "outputs": [],
   "source": []
  },
  {
   "cell_type": "code",
   "execution_count": null,
   "id": "29b19133-d29a-4650-b010-f4b730d99910",
   "metadata": {},
   "outputs": [],
   "source": [
    "16. Implement a function to check if a given list is sorted in non-decreasing order."
   ]
  },
  {
   "cell_type": "code",
   "execution_count": 19,
   "id": "53ea8f4f-e761-41dd-84bb-59d4655b22d2",
   "metadata": {},
   "outputs": [
    {
     "name": "stdout",
     "output_type": "stream",
     "text": [
      "True\n"
     ]
    }
   ],
   "source": [
    "def is_sorted(lst):\n",
    "  # loop through the list from 0 to n-2, where n is the length of the list\n",
    "  for i in range(len(lst) - 1):\n",
    "    # if the current element is greater than the next element, return False\n",
    "    if lst[i] > lst[i+1]:\n",
    "        return False\n",
    "  # if the loop ends, return True\n",
    "  return True\n",
    "\n",
    "# test the function\n",
    "lst = [2, 3, 4, 5, 6, 7, 8, 9]\n",
    "print(is_sorted(lst)) "
   ]
  },
  {
   "cell_type": "code",
   "execution_count": null,
   "id": "a09704a3-ca24-4f4d-9918-25af3ef846cc",
   "metadata": {},
   "outputs": [],
   "source": []
  },
  {
   "cell_type": "code",
   "execution_count": null,
   "id": "faa8e220-8f04-4955-a8a2-4411699f33e8",
   "metadata": {},
   "outputs": [],
   "source": [
    "17. Write a Python program to find the intersection of two lists."
   ]
  },
  {
   "cell_type": "code",
   "execution_count": 20,
   "id": "105f3481-267c-4599-8ae8-bab2303bea9d",
   "metadata": {},
   "outputs": [
    {
     "name": "stdout",
     "output_type": "stream",
     "text": [
      "[3, 4, 5]\n"
     ]
    }
   ],
   "source": [
    "def find_intersection(lst1, lst2):\n",
    "  # initialize an empty list to store the intersection\n",
    "  intersection = []\n",
    "  # loop through the first list\n",
    "  for element in lst1:\n",
    "    # if the element is in the second list and not in the intersection, append it to the intersection\n",
    "    if element in lst2 and element not in intersection:\n",
    "      intersection.append(element)\n",
    "  # return the intersection\n",
    "  return intersection\n",
    "\n",
    "# test the function\n",
    "lst1 = [1, 2, 3, 4, 5]\n",
    "lst2 = [3, 4, 5, 6, 7]\n",
    "print(find_intersection(lst1, lst2)) "
   ]
  },
  {
   "cell_type": "code",
   "execution_count": null,
   "id": "f2203f65-9bbb-4352-bf01-3b04fc8cf80a",
   "metadata": {},
   "outputs": [],
   "source": []
  },
  {
   "cell_type": "code",
   "execution_count": null,
   "id": "70899425-86ed-47a4-b6ea-6ec852dc41d0",
   "metadata": {},
   "outputs": [],
   "source": [
    "18. Implement a function to find the maximum subarray sum in a given list."
   ]
  },
  {
   "cell_type": "code",
   "execution_count": 21,
   "id": "0d37c430-8a5f-4437-a245-5632adc99d23",
   "metadata": {},
   "outputs": [
    {
     "name": "stdout",
     "output_type": "stream",
     "text": [
      "7\n"
     ]
    }
   ],
   "source": [
    "def max_subarray_sum(lst):\n",
    "  # initialize the current sum and the maximum sum as the first element of the list\n",
    "  current_sum = max_sum = lst[0]\n",
    "  # loop through the rest of the list\n",
    "  for i in range(1, len(lst)):\n",
    "    # update the current sum as the maximum of the current element and the current sum plus the current element\n",
    "    current_sum = max(lst[i], current_sum + lst[i])\n",
    "    # update the maximum sum as the maximum of the current sum and the maximum sum\n",
    "    max_sum = max(current_sum, max_sum)\n",
    "  # return the maximum sum\n",
    "  return max_sum\n",
    "\n",
    "# test the function\n",
    "lst = [-2, -3, 4, -1, -2, 1, 5, -3]\n",
    "print(max_subarray_sum(lst)) "
   ]
  },
  {
   "cell_type": "code",
   "execution_count": null,
   "id": "ffffcf00-a99b-48fd-9bed-b23be24bd637",
   "metadata": {},
   "outputs": [],
   "source": []
  },
  {
   "cell_type": "code",
   "execution_count": null,
   "id": "0fdf0196-6a4a-4cb0-8222-23f666649cdc",
   "metadata": {},
   "outputs": [],
   "source": [
    "19. Write a program to remove all vowels from a given string."
   ]
  },
  {
   "cell_type": "code",
   "execution_count": 22,
   "id": "4e261eff-e5ed-43a3-ae75-2986d5a306d3",
   "metadata": {},
   "outputs": [
    {
     "name": "stdout",
     "output_type": "stream",
     "text": [
      "Hll wrld!\n"
     ]
    }
   ],
   "source": [
    "def remove_vowels(s):\n",
    "  # initialize an empty string to store the result\n",
    "  result = \"\"\n",
    "  # loop through each character in the string\n",
    "  for char in s:\n",
    "    # if the character is not a vowel, append it to the result\n",
    "    if char.lower() not in \"aeiou\":\n",
    "      result += char\n",
    "  # return the result\n",
    "  return result\n",
    "\n",
    "# test the function\n",
    "s = \"Hello world!\"\n",
    "print(remove_vowels(s))"
   ]
  },
  {
   "cell_type": "code",
   "execution_count": null,
   "id": "13047ad1-326f-45df-b3d3-685a7bb7eb58",
   "metadata": {},
   "outputs": [],
   "source": []
  },
  {
   "cell_type": "code",
   "execution_count": null,
   "id": "063f3c51-dc8f-450c-89e8-c475e5bef46c",
   "metadata": {},
   "outputs": [],
   "source": [
    "20. Implement a function to reverse the order of words in a given sentence."
   ]
  },
  {
   "cell_type": "code",
   "execution_count": 23,
   "id": "e3b1116e-7636-4f5b-8f12-d67bef310826",
   "metadata": {},
   "outputs": [
    {
     "name": "stdout",
     "output_type": "stream",
     "text": [
      "test a is This\n"
     ]
    }
   ],
   "source": [
    "def reverse_words(s):\n",
    "  # split the sentence into a list of words\n",
    "  words = s.split()\n",
    "  # reverse the order of the words\n",
    "  words.reverse()\n",
    "  # join the words with spaces and return the result\n",
    "  return \" \".join(words)\n",
    "\n",
    "# test the function\n",
    "s = \"This is a test\"\n",
    "print(reverse_words(s))"
   ]
  },
  {
   "cell_type": "code",
   "execution_count": null,
   "id": "ab29ea6d-438d-4293-ab62-81512767ed24",
   "metadata": {},
   "outputs": [],
   "source": []
  },
  {
   "cell_type": "code",
   "execution_count": null,
   "id": "13a2a047-278c-4e56-886a-e406b2863058",
   "metadata": {},
   "outputs": [],
   "source": [
    "22. Implement a function to find the first non-repeating character in a string."
   ]
  },
  {
   "cell_type": "code",
   "execution_count": 24,
   "id": "21654a2c-fcdf-4636-80a4-fc1a09e744dd",
   "metadata": {},
   "outputs": [
    {
     "name": "stdout",
     "output_type": "stream",
     "text": [
      "c\n"
     ]
    }
   ],
   "source": [
    "def find_first_unique(s):\n",
    "  # initialize an empty dictionary to store the character and its count\n",
    "  count_dict = {}\n",
    "  # loop through the string\n",
    "  for char in s:\n",
    "    # if the character is already in the dictionary, increment its count by one\n",
    "    if char in count_dict:\n",
    "      count_dict[char] += 1\n",
    "    # otherwise, add the character to the dictionary with a count of one\n",
    "    else:\n",
    "      count_dict[char] = 1\n",
    "  # loop through the string again\n",
    "  for char in s:\n",
    "    # if the character has a count of one in the dictionary, return it\n",
    "    if count_dict[char] == 1:\n",
    "      return char\n",
    "  # if the loop ends, return None\n",
    "  return None\n",
    "\n",
    "# test the function\n",
    "s = \"abracadabra\"\n",
    "print(find_first_unique(s)) "
   ]
  },
  {
   "cell_type": "code",
   "execution_count": null,
   "id": "db276293-d6aa-4033-9eff-889a7acf2676",
   "metadata": {},
   "outputs": [],
   "source": []
  },
  {
   "cell_type": "code",
   "execution_count": null,
   "id": "68c21149-77eb-4fca-bee1-44c9b8a4a044",
   "metadata": {},
   "outputs": [],
   "source": [
    "23. Write a program to find the prime factors of a given number."
   ]
  },
  {
   "cell_type": "code",
   "execution_count": 25,
   "id": "c50ea811-ed59-40f7-b984-b8657138da1b",
   "metadata": {},
   "outputs": [
    {
     "name": "stdout",
     "output_type": "stream",
     "text": [
      "[2, 2, 3, 5]\n"
     ]
    }
   ],
   "source": [
    "def prime_factors(n):\n",
    "  # initialize an empty list to store the prime factors\n",
    "  factors = []\n",
    "  # loop from 2 to the square root of n\n",
    "  for i in range(2, int(n**0.5) + 1):\n",
    "    # while n is divisible by i, append i to the factors and divide n by i\n",
    "    while n % i == 0:\n",
    "      factors.append(i)\n",
    "      n //= i\n",
    "  # if n is greater than one, append it to the factors\n",
    "  if n > 1:\n",
    "    factors.append(n)\n",
    "  # return the factors\n",
    "  return factors\n",
    "\n",
    "# test the function\n",
    "n = 60\n",
    "print(prime_factors(n))"
   ]
  },
  {
   "cell_type": "code",
   "execution_count": null,
   "id": "2907b801-6162-4ed3-ab78-3c4f7703fb3a",
   "metadata": {},
   "outputs": [],
   "source": []
  },
  {
   "cell_type": "code",
   "execution_count": null,
   "id": "667e290e-4235-4b1f-a047-b7dc3666540e",
   "metadata": {},
   "outputs": [],
   "source": [
    "24. Implement a function to check if a given number is a power of two."
   ]
  },
  {
   "cell_type": "code",
   "execution_count": 26,
   "id": "3252c5de-de83-43c3-aba7-53db7cccd6e5",
   "metadata": {},
   "outputs": [
    {
     "name": "stdout",
     "output_type": "stream",
     "text": [
      "True\n"
     ]
    }
   ],
   "source": [
    "def is_power_of_two(n):\n",
    "  # if n is zero, return False\n",
    "  if n == 0:\n",
    "    return False\n",
    "  # while n is even, divide it by two\n",
    "  while n % 2 == 0:\n",
    "    n //= 2\n",
    "  # if n is one, return True\n",
    "  if n == 1:\n",
    "    return True\n",
    "  # otherwise, return False\n",
    "  else:\n",
    "    return False\n",
    "\n",
    "# test the function\n",
    "n = 16\n",
    "print(is_power_of_two(n))"
   ]
  },
  {
   "cell_type": "code",
   "execution_count": null,
   "id": "f5ff1b56-52ec-4059-b327-f57a3ced0391",
   "metadata": {},
   "outputs": [],
   "source": []
  },
  {
   "cell_type": "code",
   "execution_count": null,
   "id": "0379aa2c-7c8f-45da-af47-0976689fb260",
   "metadata": {},
   "outputs": [],
   "source": [
    "25. Write a Python program to merge two sorted lists into a single sorted list."
   ]
  },
  {
   "cell_type": "code",
   "execution_count": 27,
   "id": "1ebfe863-2579-4bd5-9172-6fd6e5f19bf3",
   "metadata": {},
   "outputs": [
    {
     "name": "stdout",
     "output_type": "stream",
     "text": [
      "[1, 2, 3, 4, 5, 6, 7, 8, 9]\n"
     ]
    }
   ],
   "source": [
    "def merge_lists(lst1, lst2):\n",
    "  # initialize an empty list to store the merged list\n",
    "  merged_lst = []\n",
    "  # initialize two pointers at the start of each list\n",
    "  i = 0\n",
    "  j = 0\n",
    "  # loop until one of the pointers reaches the end of its list\n",
    "  while i < len(lst1) and j < len(lst2):\n",
    "    # if the element at the first pointer is smaller than or equal to the element at the second pointer, append it to the merged list and \n",
    "    #increment the first pointer\n",
    "    if lst1[i] <= lst2[j]:\n",
    "      merged_lst.append(lst1[i])\n",
    "      i += 1\n",
    "    # otherwise, append the element at the second pointer to the merged list and increment the second pointer\n",
    "    else:\n",
    "      merged_lst.append(lst2[j])\n",
    "      j += 1\n",
    "  # append the remaining elements of the first list to the merged list\n",
    "  while i < len(lst1):\n",
    "    merged_lst.append(lst1[i])\n",
    "    i += 1\n",
    "  # append the remaining elements of the second list to the merged list\n",
    "  while j < len(lst2):\n",
    "    merged_lst.append(lst2[j])\n",
    "    j += 1\n",
    "  # return the merged list\n",
    "  return merged_lst\n",
    "\n",
    "# test the function\n",
    "lst1 = [2, 4, 6, 8]\n",
    "lst2 = [1, 3, 5, 7, 9]\n",
    "print(merge_lists(lst1, lst2))"
   ]
  },
  {
   "cell_type": "code",
   "execution_count": null,
   "id": "4fcd8396-5ca0-44c2-8666-3cf7ca09968f",
   "metadata": {},
   "outputs": [],
   "source": []
  },
  {
   "cell_type": "code",
   "execution_count": null,
   "id": "db8e59fd-9d92-454e-8064-23f54280fc77",
   "metadata": {},
   "outputs": [],
   "source": [
    "26. Implement a function to find the mode of a list of numbers."
   ]
  },
  {
   "cell_type": "code",
   "execution_count": 28,
   "id": "0215b361-6bf9-4112-8390-cc7dad2a5891",
   "metadata": {},
   "outputs": [
    {
     "name": "stdout",
     "output_type": "stream",
     "text": [
      "[8]\n"
     ]
    }
   ],
   "source": [
    "def find_mode(lst):\n",
    "  # initialize an empty dictionary to store the number and its frequency\n",
    "  freq_dict = {}\n",
    "  # loop through the list\n",
    "  for num in lst:\n",
    "    # if the number is already in the dictionary, increment its frequency by one\n",
    "    if num in freq_dict:\n",
    "      freq_dict[num] += 1\n",
    "    # otherwise, add the number to the dictionary with a frequency of one\n",
    "    else:\n",
    "      freq_dict[num] = 1\n",
    "  # initialize an empty list to store the mode(s)\n",
    "  mode_lst = []\n",
    "  # initialize the maximum frequency as zero\n",
    "  max_freq = 0\n",
    "  # loop through the dictionary\n",
    "  for num, freq in freq_dict.items():\n",
    "    # if the frequency is greater than the maximum frequency, update the maximum frequency and clear the mode list\n",
    "    if freq > max_freq:\n",
    "      max_freq = freq\n",
    "      mode_lst = []\n",
    "    # if the frequency is equal to the maximum frequency, append the number to the mode list\n",
    "    if freq == max_freq:\n",
    "      mode_lst.append(num)\n",
    "  # return the mode list\n",
    "  return mode_lst\n",
    "\n",
    "# test the function\n",
    "lst = [3, 5, 7, 9, 2, 4, 6, 8, 8]\n",
    "print(find_mode(lst)) "
   ]
  },
  {
   "cell_type": "code",
   "execution_count": null,
   "id": "1e6a72c8-3520-4b15-900e-72a505652f10",
   "metadata": {},
   "outputs": [],
   "source": []
  },
  {
   "cell_type": "code",
   "execution_count": null,
   "id": "199170e0-f5d3-41dc-906f-5d764fa919e6",
   "metadata": {},
   "outputs": [],
   "source": [
    "27. Write a program to find the greatest common divisor (GCD) of two numbers."
   ]
  },
  {
   "cell_type": "code",
   "execution_count": 32,
   "id": "c3cfbb8d-a2b0-443f-b4e8-2f95e9cf3b89",
   "metadata": {},
   "outputs": [
    {
     "name": "stdout",
     "output_type": "stream",
     "text": [
      "6\n"
     ]
    }
   ],
   "source": [
    "def gcd(a, b):\n",
    "  # if b is zero, return a\n",
    "  if b == 0:\n",
    "    return a\n",
    "  # otherwise, recursively call the function with b and the remainder of a and b\n",
    "  else:\n",
    "    return gcd(b, a % b)\n",
    "\n",
    "# test the function\n",
    "a = 12\n",
    "b = 18\n",
    "print(gcd(a, b))"
   ]
  },
  {
   "cell_type": "code",
   "execution_count": null,
   "id": "40c05aef-d3dd-4353-8668-6478672d1160",
   "metadata": {},
   "outputs": [],
   "source": []
  },
  {
   "cell_type": "code",
   "execution_count": null,
   "id": "097a99ca-ebba-4ed2-8e5e-538779df2588",
   "metadata": {},
   "outputs": [],
   "source": [
    "28. Implement a function to calculate the square root of a given number."
   ]
  },
  {
   "cell_type": "code",
   "execution_count": 33,
   "id": "d37a3e4e-a0c6-4c7c-a042-2869855bcaed",
   "metadata": {},
   "outputs": [
    {
     "name": "stdout",
     "output_type": "stream",
     "text": [
      "4.9999237060546875\n"
     ]
    }
   ],
   "source": [
    "def sqrt(n):\n",
    "  # if n is zero or one, return n\n",
    "  if n == 0 or n == 1:\n",
    "    return n\n",
    "  # initialize the lower and upper bounds as zero and n\n",
    "  low = 0\n",
    "  high = n\n",
    "  # initialize the precision as a small positive number\n",
    "  precision = 0.0001\n",
    "  # loop until the difference between the lower and upper bounds is less than the precision\n",
    "  while high - low > precision:\n",
    "    # calculate the mid point as the average of the lower and upper bounds\n",
    "    mid = (low + high) / 2\n",
    "    # if the square of the mid point is equal to n, return the mid point\n",
    "    if mid**2 == n:\n",
    "      return mid\n",
    "    # if the square of the mid point is less than n, update the lower bound as the mid point\n",
    "    elif mid**2 < n:\n",
    "      low = mid\n",
    "    # otherwise, update the upper bound as the mid point\n",
    "    else:\n",
    "      high = mid\n",
    "  # return the lower bound as the approximate square root\n",
    "  return low\n",
    "\n",
    "# test the function\n",
    "n = 25\n",
    "print(sqrt(n))"
   ]
  },
  {
   "cell_type": "code",
   "execution_count": null,
   "id": "be28ae0e-ec38-48e5-b6ca-3020afd7caa0",
   "metadata": {},
   "outputs": [],
   "source": []
  },
  {
   "cell_type": "code",
   "execution_count": null,
   "id": "5031bdf1-9a29-405c-84e4-4f96974f7b88",
   "metadata": {},
   "outputs": [],
   "source": [
    "29. Write a Python program to check if a given string is a valid palindrome ignoring non-alphanumeric characters."
   ]
  },
  {
   "cell_type": "code",
   "execution_count": 34,
   "id": "83555179-9f65-45fe-86b9-d5cf6efe4a60",
   "metadata": {},
   "outputs": [
    {
     "name": "stdout",
     "output_type": "stream",
     "text": [
      "True\n"
     ]
    }
   ],
   "source": [
    "def is_valid_palindrome(s):\n",
    "  # initialize an empty string to store the alphanumeric characters\n",
    "  alnum_s = \"\"\n",
    "  # loop through the original string\n",
    "  for char in s:\n",
    "    # if the character is alphanumeric, append it to the alphanumeric string in lower case\n",
    "    if char.isalnum():\n",
    "      alnum_s += char.lower()\n",
    "  # initialize two pointers at the start and end of the alphanumeric string\n",
    "  left = 0\n",
    "  right = len(alnum_s) - 1\n",
    "  # loop until the pointers meet or cross\n",
    "  while left < right:\n",
    "    # if the characters at the pointers are not equal, return False\n",
    "    if alnum_s[left] != alnum_s[right]:\n",
    "      return False\n",
    "    # otherwise, move the pointers towards the center\n",
    "    left += 1\n",
    "    right -= 1\n",
    "  # if the loop ends, return True\n",
    "  return True\n",
    "\n",
    "# test the function\n",
    "s = \"A man, a plan, a canal: Panama\"\n",
    "print(is_valid_palindrome(s))"
   ]
  },
  {
   "cell_type": "code",
   "execution_count": null,
   "id": "f065bd90-b10a-4be5-9fbd-a6fa9dfaaa38",
   "metadata": {},
   "outputs": [],
   "source": []
  },
  {
   "cell_type": "code",
   "execution_count": null,
   "id": "1980237c-12da-4b90-aaba-60e103b10776",
   "metadata": {},
   "outputs": [],
   "source": [
    "30. Implement a function to find the minimum element in a rotated sorted list."
   ]
  },
  {
   "cell_type": "code",
   "execution_count": 35,
   "id": "cf92ce64-2c56-44da-a927-9bb1044f0e82",
   "metadata": {},
   "outputs": [
    {
     "name": "stdout",
     "output_type": "stream",
     "text": [
      "0\n"
     ]
    }
   ],
   "source": [
    "def find_min(lst):\n",
    "  # initialize the lower and upper bounds as zero and n-1, where n is the length of the list\n",
    "  low = 0\n",
    "  high = len(lst) - 1\n",
    "  # loop until the lower bound is less than or equal to the upper bound\n",
    "  while low <= high:\n",
    "    # if the list is not rotated, return the first element\n",
    "    if lst[low] <= lst[high]:\n",
    "      return lst[low]\n",
    "    # calculate the mid point as the average of the lower and upper bounds\n",
    "    mid = (low + high) // 2\n",
    "    # if the mid point is less than its previous element, return the mid point\n",
    "    if lst[mid] < lst[mid-1]:\n",
    "      return lst[mid]\n",
    "    # if the mid point is greater than its next element, return the next element\n",
    "    if lst[mid] > lst[mid+1]:\n",
    "      return lst[mid+1]\n",
    "    # if the mid point is greater than the first element, update the lower bound as the mid point plus one\n",
    "    if lst[mid] > lst[0]:\n",
    "      low = mid + 1\n",
    "    # otherwise, update the upper bound as the mid point minus one\n",
    "    else:\n",
    "      high = mid - 1\n",
    "\n",
    "# test the function\n",
    "lst = [4, 5, 6, 7, 0, 1, 2]\n",
    "print(find_min(lst))"
   ]
  },
  {
   "cell_type": "code",
   "execution_count": null,
   "id": "61168c38-3b5e-4d49-9ace-ce4c0d48fa48",
   "metadata": {},
   "outputs": [],
   "source": []
  },
  {
   "cell_type": "code",
   "execution_count": null,
   "id": "6182a8ed-bec7-4ea0-8d59-fbb530b1f692",
   "metadata": {},
   "outputs": [],
   "source": [
    "31. Write a program to find the sum of all even numbers in a list."
   ]
  },
  {
   "cell_type": "code",
   "execution_count": 36,
   "id": "6a1135b1-f0b1-4179-a6a2-ce92dd55ba09",
   "metadata": {},
   "outputs": [
    {
     "name": "stdout",
     "output_type": "stream",
     "text": [
      "The sum of all even numbers in the list is 32\n"
     ]
    }
   ],
   "source": [
    "# Define a list of numbers\n",
    "numbers = [2, 5, 7, 8, 10, 12, 15]\n",
    "\n",
    "# Initialize a variable to store the sum\n",
    "sum = 0\n",
    "\n",
    "# Loop through the list\n",
    "for number in numbers:\n",
    "    # Check if the number is even\n",
    "    if number % 2 == 0:\n",
    "        # Add it to the sum\n",
    "        sum += number\n",
    "\n",
    "# Print the sum\n",
    "print(\"The sum of all even numbers in the list is\", sum)"
   ]
  },
  {
   "cell_type": "code",
   "execution_count": null,
   "id": "2808fb00-b249-49ef-8976-5fef80c6ad5c",
   "metadata": {},
   "outputs": [],
   "source": []
  },
  {
   "cell_type": "code",
   "execution_count": null,
   "id": "80761ff7-9619-402e-9425-318767eb8804",
   "metadata": {},
   "outputs": [],
   "source": [
    "32. Implement a function to calculate the power of a number using recursion.\n"
   ]
  },
  {
   "cell_type": "code",
   "execution_count": 37,
   "id": "c6842463-04d1-4a12-8b59-eac627a41c83",
   "metadata": {},
   "outputs": [
    {
     "name": "stdout",
     "output_type": "stream",
     "text": [
      "8\n",
      "25\n",
      "1\n"
     ]
    }
   ],
   "source": [
    "# Define a function to calculate the power of a number using recursion\n",
    "def power(base, exponent):\n",
    "    # Base case: if the exponent is zero, return 1\n",
    "    if exponent == 0:\n",
    "        return 1\n",
    "    # Recursive case: multiply the base by the power of the base and the exponent minus one\n",
    "    else:\n",
    "        return base * power(base, exponent - 1)\n",
    "\n",
    "# Test the function\n",
    "print(power(2, 3))\n",
    "print(power(5, 2)) \n",
    "print(power(3, 0)) "
   ]
  },
  {
   "cell_type": "code",
   "execution_count": null,
   "id": "6a56061b-240d-4a4b-bb44-ab3df40af0df",
   "metadata": {},
   "outputs": [],
   "source": []
  },
  {
   "cell_type": "code",
   "execution_count": null,
   "id": "fb697075-94ca-4c4f-b0b1-cb6e854202cc",
   "metadata": {},
   "outputs": [],
   "source": [
    "33. Write a Python program to remove duplicates from a list while preserving the order."
   ]
  },
  {
   "cell_type": "code",
   "execution_count": 38,
   "id": "00c0c89c-b696-4526-8ee6-922034c91593",
   "metadata": {},
   "outputs": [
    {
     "name": "stdout",
     "output_type": "stream",
     "text": [
      "The list without duplicates is [1, 2, 3, 4, 5, 6, 7, 8, 9]\n"
     ]
    }
   ],
   "source": [
    "# Define a list with duplicates\n",
    "list = [1, 2, 3, 4, 2, 5, 6, 4, 7, 8, 9, 8]\n",
    "\n",
    "# Initialize an empty list to store the unique elements\n",
    "unique_list = []\n",
    "\n",
    "# Loop through the original list\n",
    "for element in list:\n",
    "    # Check if the element is already in the unique list\n",
    "    if element not in unique_list:\n",
    "        # If not, append it to the unique list\n",
    "        unique_list.append(element)\n",
    "\n",
    "# Print the unique list\n",
    "print(\"The list without duplicates is\", unique_list)"
   ]
  },
  {
   "cell_type": "code",
   "execution_count": null,
   "id": "2a9a6464-6c8f-450a-9881-c9e8f3e7fc48",
   "metadata": {},
   "outputs": [],
   "source": []
  },
  {
   "cell_type": "code",
   "execution_count": null,
   "id": "8c85ac19-174a-4cbb-a647-b9e25646c665",
   "metadata": {},
   "outputs": [],
   "source": [
    "34. Implement a function to find the longest common prefix among a list of strings."
   ]
  },
  {
   "cell_type": "code",
   "execution_count": 39,
   "id": "6ef5d620-1195-48dc-a148-f0254b867ec4",
   "metadata": {},
   "outputs": [
    {
     "name": "stdout",
     "output_type": "stream",
     "text": [
      "fl\n",
      "\n",
      "inters\n"
     ]
    }
   ],
   "source": [
    "# Define a function to find the longest common prefix among a list of strings\n",
    "def longest_common_prefix(strings):\n",
    "    # If the list is empty, return an empty string\n",
    "    if not strings:\n",
    "        return \"\"\n",
    "    # Initialize the prefix as the first string in the list\n",
    "    prefix = strings[0]\n",
    "    # Loop through the rest of the strings in the list\n",
    "    for string in strings[1:]:\n",
    "        # While the prefix is not a prefix of the current string, shorten it by one character from the end\n",
    "        while not string.startswith(prefix):\n",
    "            prefix = prefix[:-1]\n",
    "        # If the prefix becomes empty, there is no common prefix, so return an empty string\n",
    "        if not prefix:\n",
    "            return \"\"\n",
    "    # Return the final prefix\n",
    "    return prefix\n",
    "\n",
    "# Test the function\n",
    "print(longest_common_prefix([\"flower\", \"flow\", \"flight\"])) \n",
    "print(longest_common_prefix([\"dog\", \"racecar\", \"car\"])) \n",
    "print(longest_common_prefix([\"interspecies\", \"interstellar\", \"interstate\"])) "
   ]
  },
  {
   "cell_type": "code",
   "execution_count": null,
   "id": "b04a5f34-3e97-4fae-8d67-b49cb6640193",
   "metadata": {},
   "outputs": [],
   "source": []
  },
  {
   "cell_type": "code",
   "execution_count": null,
   "id": "617d1bcd-6906-40d2-9629-ada4ff9b5488",
   "metadata": {},
   "outputs": [],
   "source": [
    "35. Write a program to check if a given number is a perfect square."
   ]
  },
  {
   "cell_type": "code",
   "execution_count": 40,
   "id": "fea0e78f-1ad4-44ce-82e4-13d051fe9e15",
   "metadata": {},
   "outputs": [
    {
     "name": "stdout",
     "output_type": "stream",
     "text": [
      "True\n",
      "False\n",
      "True\n",
      "False\n"
     ]
    }
   ],
   "source": [
    "# Define a function to check if a given number is a perfect square\n",
    "def is_perfect_square(number):\n",
    "    # If the number is negative, return False\n",
    "    if number < 0:\n",
    "        return False\n",
    "    # Initialize a variable to store the square root of the number\n",
    "    sqrt = int(number ** 0.5)\n",
    "    # Check if the square of the square root is equal to the number\n",
    "    return sqrt ** 2 == number\n",
    "\n",
    "# Test the function\n",
    "print(is_perfect_square(16))\n",
    "print(is_perfect_square(15)) \n",
    "print(is_perfect_square(0)) \n",
    "print(is_perfect_square(-4)) "
   ]
  },
  {
   "cell_type": "code",
   "execution_count": null,
   "id": "0fda5212-5ef8-4d67-a5d7-40dddd9f417b",
   "metadata": {},
   "outputs": [],
   "source": []
  },
  {
   "cell_type": "code",
   "execution_count": null,
   "id": "e17bacd4-dad2-4cab-9433-6f574129875d",
   "metadata": {},
   "outputs": [],
   "source": [
    "36. Implement a function to calculate the product of all elements in a list."
   ]
  },
  {
   "cell_type": "code",
   "execution_count": 41,
   "id": "f25f0589-5a1b-45d5-a01f-349a19586d01",
   "metadata": {},
   "outputs": [
    {
     "name": "stdout",
     "output_type": "stream",
     "text": [
      "24\n",
      "210\n",
      "0\n",
      "1\n"
     ]
    }
   ],
   "source": [
    "# Define a function to calculate the product of all elements in a list\n",
    "def product(list):\n",
    "    # Initialize a variable to store the product\n",
    "    result = 1\n",
    "    # Loop through the list\n",
    "    for element in list:\n",
    "        # Multiply the result by the current element\n",
    "        result *= element\n",
    "    # Return the final product\n",
    "    return result\n",
    "\n",
    "# Test the function\n",
    "print(product([1, 2, 3, 4]))\n",
    "print(product([5, 6, 7])) \n",
    "print(product([0, 1, 2])) \n",
    "print(product([])) "
   ]
  },
  {
   "cell_type": "code",
   "execution_count": null,
   "id": "94f0c00b-b7fc-41ba-baa1-3d4e7ac25b76",
   "metadata": {},
   "outputs": [],
   "source": []
  },
  {
   "cell_type": "code",
   "execution_count": null,
   "id": "0c4018c1-8ade-4fd1-8243-2786b34b5042",
   "metadata": {},
   "outputs": [],
   "source": [
    "37. Write a Python program to reverse the order of words in a sentence while preserving the word order."
   ]
  },
  {
   "cell_type": "code",
   "execution_count": 42,
   "id": "0ece3c0e-5ddb-4861-af70-f7cbaa11dde0",
   "metadata": {},
   "outputs": [
    {
     "name": "stdout",
     "output_type": "stream",
     "text": [
      "world Hello\n",
      "test a is This\n",
      "Python love I\n"
     ]
    }
   ],
   "source": [
    "# Define a function to reverse the order of words in a sentence\n",
    "def reverse_words(sentence):\n",
    "    # Split the sentence into a list of words\n",
    "    words = sentence.split()\n",
    "    # Initialize an empty list to store the reversed words\n",
    "    reversed_words = []\n",
    "    # Loop through the words in reverse order\n",
    "    for word in reversed(words):\n",
    "        # Append the word to the reversed list\n",
    "        reversed_words.append(word)\n",
    "    # Join the reversed list with spaces and return it\n",
    "    return \" \".join(reversed_words)\n",
    "\n",
    "# Test the function\n",
    "print(reverse_words(\"Hello world\")) \n",
    "print(reverse_words(\"This is a test\")) \n",
    "print(reverse_words(\"I love Python\")) "
   ]
  },
  {
   "cell_type": "code",
   "execution_count": null,
   "id": "d7853217-1c1c-4059-afc8-2452512d2dfc",
   "metadata": {},
   "outputs": [],
   "source": []
  },
  {
   "cell_type": "code",
   "execution_count": null,
   "id": "49cbc78e-ad2c-4c47-ace6-0117f63e49d6",
   "metadata": {},
   "outputs": [],
   "source": [
    "39. Write a program to find the sum of digits of a given number."
   ]
  },
  {
   "cell_type": "code",
   "execution_count": 45,
   "id": "f7fb8bec-53c1-4a7c-a196-ec12c47bbcd7",
   "metadata": {},
   "outputs": [
    {
     "name": "stdout",
     "output_type": "stream",
     "text": [
      "6\n",
      "15\n",
      "0\n"
     ]
    }
   ],
   "source": [
    "# Define a function to find the sum of digits of a given number\n",
    "def sum_of_digits(number):\n",
    "    # Initialize a variable to store the sum\n",
    "    sum = 0\n",
    "    # Loop until the number becomes zero\n",
    "    while number > 0:\n",
    "        # Get the last digit of the number\n",
    "        digit = number % 10\n",
    "        # Add it to the sum\n",
    "        sum += digit\n",
    "        # Remove the last digit from the number\n",
    "        number //= 10\n",
    "    # Return the final sum\n",
    "    return sum\n",
    "\n",
    "# Test the function\n",
    "print(sum_of_digits(123))\n",
    "print(sum_of_digits(456)) \n",
    "print(sum_of_digits(0)) "
   ]
  },
  {
   "cell_type": "code",
   "execution_count": null,
   "id": "faf39bcf-d4a7-40e8-a258-59e01c0ead04",
   "metadata": {},
   "outputs": [],
   "source": []
  },
  {
   "cell_type": "code",
   "execution_count": null,
   "id": "c899b942-db38-4034-9dc1-b79fd0f3fff7",
   "metadata": {},
   "outputs": [],
   "source": [
    "40. Implement a function to check if a given string is a valid palindrome considering case sensitivity."
   ]
  },
  {
   "cell_type": "code",
   "execution_count": 46,
   "id": "f260e19f-a147-40de-b5d6-665cc567941e",
   "metadata": {},
   "outputs": [
    {
     "name": "stdout",
     "output_type": "stream",
     "text": [
      "True\n",
      "False\n",
      "True\n",
      "False\n"
     ]
    }
   ],
   "source": [
    "# Define a function to check if a given string is a valid palindrome\n",
    "def is_palindrome(string):\n",
    "    # Initialize two pointers to point to the start and end of the string\n",
    "    left = 0\n",
    "    right = len(string) - 1\n",
    "    # Loop until the pointers meet or cross each other\n",
    "    while left < right:\n",
    "        # Compare the characters at the pointers\n",
    "        if string[left] != string[right]:\n",
    "            # If they are not equal, return False\n",
    "            return False\n",
    "        # Move the pointers towards the center\n",
    "        left += 1\n",
    "        right -= 1\n",
    "    # Return True if the loop ends without returning False\n",
    "    return True\n",
    "\n",
    "# Test the function\n",
    "print(is_palindrome(\"racecar\"))\n",
    "print(is_palindrome(\"Madam\")) \n",
    "print(is_palindrome(\"abba\")) \n",
    "print(is_palindrome(\"hello\")) "
   ]
  },
  {
   "cell_type": "code",
   "execution_count": null,
   "id": "103abad8-d779-4abf-bad7-246d4af06472",
   "metadata": {},
   "outputs": [],
   "source": []
  },
  {
   "cell_type": "code",
   "execution_count": null,
   "id": "8738a1c3-25ee-40bb-a015-9842e10adc8d",
   "metadata": {},
   "outputs": [],
   "source": [
    "41. Write a Python program to find the smallest missing positive integer in a list."
   ]
  },
  {
   "cell_type": "code",
   "execution_count": 47,
   "id": "19943d64-cd7a-49c5-ab09-fd65d66eecfd",
   "metadata": {},
   "outputs": [
    {
     "name": "stdout",
     "output_type": "stream",
     "text": [
      "2\n",
      "3\n",
      "1\n"
     ]
    }
   ],
   "source": [
    "# Define a function to find the smallest missing positive integer in a list\n",
    "def smallest_missing_positive(list):\n",
    "    # Initialize a set to store the positive integers in the list\n",
    "    positives = set()\n",
    "    # Loop through the list\n",
    "    for element in list:\n",
    "        # If the element is positive, add it to the set\n",
    "        if element > 0:\n",
    "            positives.add(element)\n",
    "    # Initialize a variable to store the smallest missing positive integer\n",
    "    smallest = 1\n",
    "    # Loop until the smallest is found\n",
    "    while True:\n",
    "        # If the smallest is not in the set, return it\n",
    "        if smallest not in positives:\n",
    "            return smallest\n",
    "        # Otherwise, increment the smallest by one\n",
    "        else:\n",
    "            smallest += 1\n",
    "\n",
    "# Test the function\n",
    "print(smallest_missing_positive([3, 4, -1, 1])) \n",
    "print(smallest_missing_positive([1, 2, 0])) \n",
    "print(smallest_missing_positive([-5, -3, -2])) "
   ]
  },
  {
   "cell_type": "code",
   "execution_count": null,
   "id": "65ef3f71-3ccd-49c7-9c70-ddfc9c7038e6",
   "metadata": {},
   "outputs": [],
   "source": []
  },
  {
   "cell_type": "code",
   "execution_count": null,
   "id": "071cf4ee-e340-48d7-83ba-ae03af98a349",
   "metadata": {},
   "outputs": [],
   "source": [
    "42. Implement a function to find the longest palindrome substring in a given string."
   ]
  },
  {
   "cell_type": "code",
   "execution_count": 48,
   "id": "665ab2b0-27ad-486f-aa0c-0a2a692a9b24",
   "metadata": {},
   "outputs": [
    {
     "name": "stdout",
     "output_type": "stream",
     "text": [
      "aba\n",
      "bb\n",
      "a\n",
      "racecar\n"
     ]
    }
   ],
   "source": [
    "# Define a helper function to expand around the center of a palindrome\n",
    "def expand_around_center(string, left, right):\n",
    "    # Loop until the left and right pointers are within the string boundaries and the characters are equal\n",
    "    while left >= 0 and right < len(string) and string[left] == string[right]:\n",
    "        # Move the left pointer one step to the left\n",
    "        left -= 1\n",
    "        # Move the right pointer one step to the right\n",
    "        right += 1\n",
    "    # Return the length of the palindrome\n",
    "    return right - left - 1\n",
    "\n",
    "# Define a function to find the longest palindrome substring in a given string\n",
    "def longest_palindrome(string):\n",
    "    # If the string is empty or has only one character, return the string\n",
    "    if not string or len(string) == 1:\n",
    "        return string\n",
    "    # Initialize two variables to store the start and end indices of the longest palindrome substring\n",
    "    start = 0\n",
    "    end = 0\n",
    "    # Loop through the string\n",
    "    for i in range(len(string)):\n",
    "        # Find the length of the odd-length palindrome centered at i\n",
    "        odd_length = expand_around_center(string, i, i)\n",
    "        # Find the length of the even-length palindrome centered at i and i + 1\n",
    "        even_length = expand_around_center(string, i, i + 1)\n",
    "        # Find the maximum of the two lengths\n",
    "        max_length = max(odd_length, even_length)\n",
    "        # If the maximum length is greater than the current longest palindrome substring length, update the start and end indices\n",
    "        if max_length > end - start:\n",
    "            start = i - (max_length - 1) // 2\n",
    "            end = i + max_length // 2\n",
    "    # Return the longest palindrome substring using slicing\n",
    "    return string[start:end + 1]\n",
    "\n",
    "# Test the function\n",
    "print(longest_palindrome(\"babad\"))\n",
    "print(longest_palindrome(\"cbbd\")) \n",
    "print(longest_palindrome(\"a\")) \n",
    "print(longest_palindrome(\"racecar\")) "
   ]
  },
  {
   "cell_type": "code",
   "execution_count": null,
   "id": "577624be-9487-4fc3-825e-9f17bca389c0",
   "metadata": {},
   "outputs": [],
   "source": []
  },
  {
   "cell_type": "code",
   "execution_count": null,
   "id": "3e3ee312-7086-4822-a950-4645d532945d",
   "metadata": {},
   "outputs": [],
   "source": [
    "43. Write a program to find the number of occurrences of a given element in a list."
   ]
  },
  {
   "cell_type": "code",
   "execution_count": 49,
   "id": "f0ac823e-3dc5-4fbd-8895-26266d07374c",
   "metadata": {},
   "outputs": [
    {
     "name": "stdout",
     "output_type": "stream",
     "text": [
      "2\n",
      "3\n",
      "3\n",
      "0\n"
     ]
    }
   ],
   "source": [
    "# Define a function to find the number of occurrences of a given element in a list\n",
    "def count_element(list, element):\n",
    "    # Initialize a variable to store the count\n",
    "    count = 0\n",
    "    # Loop through the list\n",
    "    for item in list:\n",
    "        # If the item is equal to the element, increment the count\n",
    "        if item == element:\n",
    "            count += 1\n",
    "    # Return the final count\n",
    "    return count\n",
    "\n",
    "# Test the function\n",
    "print(count_element([1, 2, 3, 4, 2, 5, 6, 4, 7, 8, 9, 8], 8)) \n",
    "print(count_element([\"a\", \"b\", \"c\", \"a\", \"d\", \"e\", \"f\", \"a\"], \"a\")) \n",
    "print(count_element([True, False, True, False, True], True)) \n",
    "print(count_element([], 0)) "
   ]
  },
  {
   "cell_type": "code",
   "execution_count": null,
   "id": "e5762e23-afb5-4800-965a-c44a5e45cc60",
   "metadata": {},
   "outputs": [],
   "source": []
  },
  {
   "cell_type": "code",
   "execution_count": null,
   "id": "ea129c12-58b7-4370-9b5e-ac95ec351637",
   "metadata": {},
   "outputs": [],
   "source": [
    "44. Implement a function to check if a given number is a perfect number."
   ]
  },
  {
   "cell_type": "code",
   "execution_count": 50,
   "id": "11c8d87d-e7dd-4ed1-9bb7-92a1e99dcdc3",
   "metadata": {},
   "outputs": [
    {
     "name": "stdout",
     "output_type": "stream",
     "text": [
      "True\n",
      "True\n",
      "True\n",
      "False\n",
      "False\n"
     ]
    }
   ],
   "source": [
    "# Define a function to check if a given number is a perfect number\n",
    "def is_perfect_number(number):\n",
    "    # If the number is negative or zero, return False\n",
    "    if number <= 0:\n",
    "        return False\n",
    "    # Initialize a variable to store the sum of the proper divisors of the number\n",
    "    sum = 0\n",
    "    # Loop from 1 to the square root of the number\n",
    "    for i in range(1, int(number ** 0.5) + 1):\n",
    "        # If i is a divisor of the number, add it to the sum\n",
    "        if number % i == 0:\n",
    "            sum += i\n",
    "            # If i is not equal to 1 or the square root of the number, add the other divisor to the sum\n",
    "            if i != 1 and i != number // i:\n",
    "                sum += number // i\n",
    "    # Return True if the sum is equal to the number, False otherwise\n",
    "    return sum == number\n",
    "\n",
    "# Test the function\n",
    "print(is_perfect_number(6)) \n",
    "print(is_perfect_number(28)) \n",
    "print(is_perfect_number(496)) \n",
    "print(is_perfect_number(12)) \n",
    "print(is_perfect_number(-6)) "
   ]
  },
  {
   "cell_type": "code",
   "execution_count": null,
   "id": "14e8a478-32d8-4c1c-92a1-56a1fb0fe58c",
   "metadata": {},
   "outputs": [],
   "source": []
  },
  {
   "cell_type": "code",
   "execution_count": null,
   "id": "3e3fe404-b99c-46c7-933c-552effe111f8",
   "metadata": {},
   "outputs": [],
   "source": [
    "45. Write a Python program to remove all duplicates from a string."
   ]
  },
  {
   "cell_type": "code",
   "execution_count": 51,
   "id": "163df1bd-2a24-4bc4-9ba9-c66013ea1bfa",
   "metadata": {},
   "outputs": [
    {
     "name": "stdout",
     "output_type": "stream",
     "text": [
      "helo\n",
      "ban\n",
      "misp\n",
      "\n"
     ]
    }
   ],
   "source": [
    "# Define a function to remove all duplicates from a string\n",
    "def remove_duplicates(string):\n",
    "    # Initialize an empty string to store the result\n",
    "    result = \"\"\n",
    "    # Loop through the string\n",
    "    for char in string:\n",
    "        # If the character is not already in the result, append it to the result\n",
    "        if char not in result:\n",
    "            result += char\n",
    "    # Return the final string\n",
    "    return result\n",
    "\n",
    "# Test the function\n",
    "print(remove_duplicates(\"hello\"))\n",
    "print(remove_duplicates(\"banana\")) \n",
    "print(remove_duplicates(\"mississippi\")) \n",
    "print(remove_duplicates(\"\")) "
   ]
  },
  {
   "cell_type": "code",
   "execution_count": null,
   "id": "a459e7d1-7002-4cb8-b9af-5d1cb9f898fd",
   "metadata": {},
   "outputs": [],
   "source": []
  },
  {
   "cell_type": "code",
   "execution_count": null,
   "id": "04bf809f-835b-4e94-9b16-e112d8391fe8",
   "metadata": {},
   "outputs": [],
   "source": [
    "46. Implement a function to find the first missing positive"
   ]
  },
  {
   "cell_type": "code",
   "execution_count": 52,
   "id": "fbd55469-a59b-4fdf-89c8-83da3b7c2352",
   "metadata": {},
   "outputs": [
    {
     "name": "stdout",
     "output_type": "stream",
     "text": [
      "2\n",
      "3\n",
      "1\n"
     ]
    }
   ],
   "source": [
    "# Define a function to find the first missing positive\n",
    "def first_missing_positive(list):\n",
    "    # Initialize a variable to store the smallest positive integer\n",
    "    smallest = 1\n",
    "    # Loop through the list\n",
    "    for element in list:\n",
    "        # If the element is equal to the smallest, increment the smallest by one\n",
    "        if element == smallest:\n",
    "            smallest += 1\n",
    "    # Return the final smallest\n",
    "    return smallest\n",
    "\n",
    "# Test the function\n",
    "print(first_missing_positive([3, 4, -1, 1]))\n",
    "print(first_missing_positive([1, 2, 0])) \n",
    "print(first_missing_positive([-5, -3, -2])) "
   ]
  }
 ],
 "metadata": {
  "kernelspec": {
   "display_name": "Python 3 (ipykernel)",
   "language": "python",
   "name": "python3"
  },
  "language_info": {
   "codemirror_mode": {
    "name": "ipython",
    "version": 3
   },
   "file_extension": ".py",
   "mimetype": "text/x-python",
   "name": "python",
   "nbconvert_exporter": "python",
   "pygments_lexer": "ipython3",
   "version": "3.10.8"
  }
 },
 "nbformat": 4,
 "nbformat_minor": 5
}
